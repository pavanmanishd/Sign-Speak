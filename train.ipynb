{
  "cells": [
    {
      "cell_type": "code",
      "execution_count": 1,
      "metadata": {
        "id": "igMyGnjE9hEp"
      },
      "outputs": [
        {
          "name": "stderr",
          "output_type": "stream",
          "text": [
            "2023-10-08 18:36:25.459523: I tensorflow/core/util/port.cc:110] oneDNN custom operations are on. You may see slightly different numerical results due to floating-point round-off errors from different computation orders. To turn them off, set the environment variable `TF_ENABLE_ONEDNN_OPTS=0`.\n",
            "2023-10-08 18:36:25.492466: I tensorflow/core/platform/cpu_feature_guard.cc:182] This TensorFlow binary is optimized to use available CPU instructions in performance-critical operations.\n",
            "To enable the following instructions: AVX2 AVX512F AVX512_VNNI FMA, in other operations, rebuild TensorFlow with the appropriate compiler flags.\n"
          ]
        }
      ],
      "source": [
        "import csv\n",
        "\n",
        "import numpy as np\n",
        "import tensorflow as tf\n",
        "from sklearn.model_selection import train_test_split\n",
        "\n",
        "RANDOM_SEED = 42"
      ]
    },
    {
      "cell_type": "code",
      "execution_count": 2,
      "metadata": {
        "id": "9NvZP2Zn9hEy"
      },
      "outputs": [],
      "source": [
        "dataset = 'model/keypoint_classifier/keypoint.csv'\n",
        "model_save_path = 'model/keypoint_classifier/keypoint_classifier6.hdf5'\n",
        "tflite_save_path = 'model/keypoint_classifier/keypoint_classifier6.tflite'"
      ]
    },
    {
      "cell_type": "code",
      "execution_count": 3,
      "metadata": {
        "id": "du4kodXL9hEz"
      },
      "outputs": [],
      "source": [
        "NUM_CLASSES = 14"
      ]
    },
    {
      "cell_type": "code",
      "execution_count": 4,
      "metadata": {
        "id": "QT5ZqtEz9hE0"
      },
      "outputs": [],
      "source": [
        "X_dataset = np.loadtxt(dataset, delimiter=',', dtype='float32', usecols=list(range(1, (21 * 2) + 1)))"
      ]
    },
    {
      "cell_type": "code",
      "execution_count": 5,
      "metadata": {
        "id": "QmoKFsp49hE0"
      },
      "outputs": [],
      "source": [
        "y_dataset = np.loadtxt(dataset, delimiter=',', dtype='int32', usecols=(0))"
      ]
    },
    {
      "cell_type": "code",
      "execution_count": 6,
      "metadata": {
        "id": "xQU7JTZ_9hE0"
      },
      "outputs": [],
      "source": [
        "X_train, X_test, y_train, y_test = train_test_split(X_dataset, y_dataset, train_size=0.75, random_state=RANDOM_SEED)"
      ]
    },
    {
      "cell_type": "code",
      "execution_count": 7,
      "metadata": {
        "id": "vHBmUf1t9hE1"
      },
      "outputs": [],
      "source": [
        "model = tf.keras.models.Sequential([\n",
        "    tf.keras.layers.Input((21 * 2, )),\n",
        "    tf.keras.layers.Dropout(0.2),\n",
        "    tf.keras.layers.Dense(20, activation='relu'),\n",
        "    tf.keras.layers.Dropout(0.4),\n",
        "    tf.keras.layers.Dense(14, activation='relu'),\n",
        "    tf.keras.layers.Dense(NUM_CLASSES, activation='softmax')\n",
        "])"
      ]
    },
    {
      "cell_type": "code",
      "execution_count": 8,
      "metadata": {
        "colab": {
          "base_uri": "https://localhost:8080/"
        },
        "id": "ypqky9tc9hE1",
        "outputId": "5db082bb-30e3-4110-bf63-a1ee777ecd46"
      },
      "outputs": [
        {
          "name": "stdout",
          "output_type": "stream",
          "text": [
            "Model: \"sequential\"\n",
            "_________________________________________________________________\n",
            " Layer (type)                Output Shape              Param #   \n",
            "=================================================================\n",
            " dropout (Dropout)           (None, 42)                0         \n",
            "                                                                 \n",
            " dense (Dense)               (None, 20)                860       \n",
            "                                                                 \n",
            " dropout_1 (Dropout)         (None, 20)                0         \n",
            "                                                                 \n",
            " dense_1 (Dense)             (None, 14)                294       \n",
            "                                                                 \n",
            " dense_2 (Dense)             (None, 14)                210       \n",
            "                                                                 \n",
            "=================================================================\n",
            "Total params: 1364 (5.33 KB)\n",
            "Trainable params: 1364 (5.33 KB)\n",
            "Non-trainable params: 0 (0.00 Byte)\n",
            "_________________________________________________________________\n"
          ]
        }
      ],
      "source": [
        "model.summary()  # tf.keras.utils.plot_model(model, show_shapes=True)"
      ]
    },
    {
      "cell_type": "code",
      "execution_count": 9,
      "metadata": {
        "id": "MbMjOflQ9hE1"
      },
      "outputs": [],
      "source": [
        "# Model checkpoint callback\n",
        "cp_callback = tf.keras.callbacks.ModelCheckpoint(\n",
        "    model_save_path, verbose=1, save_weights_only=False)\n",
        "# Callback for early stopping\n",
        "es_callback = tf.keras.callbacks.EarlyStopping(patience=20, verbose=1)"
      ]
    },
    {
      "cell_type": "code",
      "execution_count": 10,
      "metadata": {
        "id": "c3Dac0M_9hE2"
      },
      "outputs": [],
      "source": [
        "# Model compilation\n",
        "model.compile(\n",
        "    optimizer='adam',\n",
        "    loss='sparse_categorical_crossentropy',\n",
        "    metrics=['accuracy']\n",
        ")"
      ]
    },
    {
      "cell_type": "code",
      "execution_count": 11,
      "metadata": {
        "colab": {
          "base_uri": "https://localhost:8080/"
        },
        "id": "WirBl-JE9hE3",
        "outputId": "71b30ca2-8294-4d9d-8aa2-800d90d399de",
        "scrolled": true
      },
      "outputs": [
        {
          "name": "stdout",
          "output_type": "stream",
          "text": [
            "Epoch 1/1000\n",
            "29/40 [====================>.........] - ETA: 0s - loss: 2.6780 - accuracy: 0.1455  \n",
            "Epoch 1: saving model to model/keypoint_classifier/keypoint_classifier6.hdf5\n",
            "40/40 [==============================] - 2s 9ms/step - loss: 2.6503 - accuracy: 0.1555 - val_loss: 2.5149 - val_accuracy: 0.2107\n",
            "Epoch 2/1000\n",
            "29/40 [====================>.........] - ETA: 0s - loss: 2.5025 - accuracy: 0.2069\n",
            "Epoch 2: saving model to model/keypoint_classifier/keypoint_classifier6.hdf5\n",
            "40/40 [==============================] - 0s 3ms/step - loss: 2.4876 - accuracy: 0.2086 - val_loss: 2.3638 - val_accuracy: 0.2172\n",
            "Epoch 3/1000\n",
            " 1/40 [..............................] - ETA: 0s - loss: 2.4260 - accuracy: 0.1562"
          ]
        },
        {
          "name": "stderr",
          "output_type": "stream",
          "text": [
            "/home/pavanmanishd/.local/lib/python3.10/site-packages/keras/src/engine/training.py:3000: UserWarning: You are saving your model as an HDF5 file via `model.save()`. This file format is considered legacy. We recommend using instead the native Keras format, e.g. `model.save('my_model.keras')`.\n",
            "  saving_api.save_model(\n"
          ]
        },
        {
          "name": "stdout",
          "output_type": "stream",
          "text": [
            "39/40 [============================>.] - ETA: 0s - loss: 2.3230 - accuracy: 0.2432\n",
            "Epoch 3: saving model to model/keypoint_classifier/keypoint_classifier6.hdf5\n",
            "40/40 [==============================] - 0s 5ms/step - loss: 2.3230 - accuracy: 0.2431 - val_loss: 2.1387 - val_accuracy: 0.3308\n",
            "Epoch 4/1000\n",
            "25/40 [=================>............] - ETA: 0s - loss: 2.1345 - accuracy: 0.2969\n",
            "Epoch 4: saving model to model/keypoint_classifier/keypoint_classifier6.hdf5\n",
            "40/40 [==============================] - 0s 3ms/step - loss: 2.0937 - accuracy: 0.3078 - val_loss: 1.8044 - val_accuracy: 0.4302\n",
            "Epoch 5/1000\n",
            "26/40 [==================>...........] - ETA: 0s - loss: 1.8917 - accuracy: 0.3552\n",
            "Epoch 5: saving model to model/keypoint_classifier/keypoint_classifier6.hdf5\n",
            "40/40 [==============================] - 0s 3ms/step - loss: 1.8579 - accuracy: 0.3646 - val_loss: 1.5082 - val_accuracy: 0.5178\n",
            "Epoch 6/1000\n",
            "30/40 [=====================>........] - ETA: 0s - loss: 1.6739 - accuracy: 0.4307\n",
            "Epoch 6: saving model to model/keypoint_classifier/keypoint_classifier6.hdf5\n",
            "40/40 [==============================] - 0s 3ms/step - loss: 1.6519 - accuracy: 0.4386 - val_loss: 1.3138 - val_accuracy: 0.6047\n",
            "Epoch 7/1000\n",
            "29/40 [====================>.........] - ETA: 0s - loss: 1.5418 - accuracy: 0.4626\n",
            "Epoch 7: saving model to model/keypoint_classifier/keypoint_classifier6.hdf5\n",
            "40/40 [==============================] - 0s 3ms/step - loss: 1.5196 - accuracy: 0.4663 - val_loss: 1.1749 - val_accuracy: 0.6456\n",
            "Epoch 8/1000\n",
            "24/40 [=================>............] - ETA: 0s - loss: 1.4373 - accuracy: 0.5007\n",
            "Epoch 8: saving model to model/keypoint_classifier/keypoint_classifier6.hdf5\n",
            "40/40 [==============================] - 0s 3ms/step - loss: 1.4212 - accuracy: 0.4992 - val_loss: 1.0719 - val_accuracy: 0.7124\n",
            "Epoch 9/1000\n",
            "39/40 [============================>.] - ETA: 0s - loss: 1.3449 - accuracy: 0.5156\n",
            "Epoch 9: saving model to model/keypoint_classifier/keypoint_classifier6.hdf5\n",
            "40/40 [==============================] - 0s 4ms/step - loss: 1.3423 - accuracy: 0.5168 - val_loss: 0.9936 - val_accuracy: 0.7467\n",
            "Epoch 10/1000\n",
            "22/40 [===============>..............] - ETA: 0s - loss: 1.3275 - accuracy: 0.5032\n",
            "Epoch 10: saving model to model/keypoint_classifier/keypoint_classifier6.hdf5\n",
            "40/40 [==============================] - 0s 4ms/step - loss: 1.2863 - accuracy: 0.5318 - val_loss: 0.9334 - val_accuracy: 0.7669\n",
            "Epoch 11/1000\n",
            "27/40 [===================>..........] - ETA: 0s - loss: 1.2457 - accuracy: 0.5402\n",
            "Epoch 11: saving model to model/keypoint_classifier/keypoint_classifier6.hdf5\n",
            "40/40 [==============================] - 0s 3ms/step - loss: 1.2186 - accuracy: 0.5525 - val_loss: 0.8720 - val_accuracy: 0.7899\n",
            "Epoch 12/1000\n",
            "24/40 [=================>............] - ETA: 0s - loss: 1.1518 - accuracy: 0.5661\n",
            "Epoch 12: saving model to model/keypoint_classifier/keypoint_classifier6.hdf5\n",
            "40/40 [==============================] - 0s 4ms/step - loss: 1.1660 - accuracy: 0.5627 - val_loss: 0.8248 - val_accuracy: 0.7769\n",
            "Epoch 13/1000\n",
            "24/40 [=================>............] - ETA: 0s - loss: 1.1147 - accuracy: 0.5895\n",
            "Epoch 13: saving model to model/keypoint_classifier/keypoint_classifier6.hdf5\n",
            "40/40 [==============================] - 0s 4ms/step - loss: 1.1105 - accuracy: 0.5882 - val_loss: 0.7796 - val_accuracy: 0.8385\n",
            "Epoch 14/1000\n",
            "39/40 [============================>.] - ETA: 0s - loss: 1.0771 - accuracy: 0.6034\n",
            "Epoch 14: saving model to model/keypoint_classifier/keypoint_classifier6.hdf5\n",
            "40/40 [==============================] - 0s 5ms/step - loss: 1.0776 - accuracy: 0.6030 - val_loss: 0.7348 - val_accuracy: 0.8391\n",
            "Epoch 15/1000\n",
            "20/40 [==============>...............] - ETA: 0s - loss: 1.0654 - accuracy: 0.6145\n",
            "Epoch 15: saving model to model/keypoint_classifier/keypoint_classifier6.hdf5\n",
            "40/40 [==============================] - 0s 4ms/step - loss: 1.0598 - accuracy: 0.6160 - val_loss: 0.6931 - val_accuracy: 0.8497\n",
            "Epoch 16/1000\n",
            "25/40 [=================>............] - ETA: 0s - loss: 1.0131 - accuracy: 0.6294\n",
            "Epoch 16: saving model to model/keypoint_classifier/keypoint_classifier6.hdf5\n",
            "40/40 [==============================] - 0s 3ms/step - loss: 1.0069 - accuracy: 0.6300 - val_loss: 0.6586 - val_accuracy: 0.8621\n",
            "Epoch 17/1000\n",
            "19/40 [=============>................] - ETA: 0s - loss: 0.9985 - accuracy: 0.6361\n",
            "Epoch 17: saving model to model/keypoint_classifier/keypoint_classifier6.hdf5\n",
            "40/40 [==============================] - 0s 3ms/step - loss: 0.9780 - accuracy: 0.6419 - val_loss: 0.6177 - val_accuracy: 0.8692\n",
            "Epoch 18/1000\n",
            "30/40 [=====================>........] - ETA: 0s - loss: 0.9633 - accuracy: 0.6505\n",
            "Epoch 18: saving model to model/keypoint_classifier/keypoint_classifier6.hdf5\n",
            "40/40 [==============================] - 0s 3ms/step - loss: 0.9634 - accuracy: 0.6511 - val_loss: 0.5907 - val_accuracy: 0.8769\n",
            "Epoch 19/1000\n",
            "27/40 [===================>..........] - ETA: 0s - loss: 0.9214 - accuracy: 0.6684\n",
            "Epoch 19: saving model to model/keypoint_classifier/keypoint_classifier6.hdf5\n",
            "40/40 [==============================] - 0s 3ms/step - loss: 0.9189 - accuracy: 0.6725 - val_loss: 0.5567 - val_accuracy: 0.9095\n",
            "Epoch 20/1000\n",
            "26/40 [==================>...........] - ETA: 0s - loss: 0.9157 - accuracy: 0.6683\n",
            "Epoch 20: saving model to model/keypoint_classifier/keypoint_classifier6.hdf5\n",
            "40/40 [==============================] - 0s 3ms/step - loss: 0.9036 - accuracy: 0.6758 - val_loss: 0.5376 - val_accuracy: 0.8852\n",
            "Epoch 21/1000\n",
            "26/40 [==================>...........] - ETA: 0s - loss: 0.8781 - accuracy: 0.6863\n",
            "Epoch 21: saving model to model/keypoint_classifier/keypoint_classifier6.hdf5\n",
            "40/40 [==============================] - 0s 3ms/step - loss: 0.8764 - accuracy: 0.6894 - val_loss: 0.5144 - val_accuracy: 0.9030\n",
            "Epoch 22/1000\n",
            "27/40 [===================>..........] - ETA: 0s - loss: 0.8645 - accuracy: 0.6846\n",
            "Epoch 22: saving model to model/keypoint_classifier/keypoint_classifier6.hdf5\n",
            "40/40 [==============================] - 0s 3ms/step - loss: 0.8690 - accuracy: 0.6849 - val_loss: 0.4869 - val_accuracy: 0.9225\n",
            "Epoch 23/1000\n",
            "25/40 [=================>............] - ETA: 0s - loss: 0.8315 - accuracy: 0.7034\n",
            "Epoch 23: saving model to model/keypoint_classifier/keypoint_classifier6.hdf5\n",
            "40/40 [==============================] - 0s 3ms/step - loss: 0.8422 - accuracy: 0.6953 - val_loss: 0.4736 - val_accuracy: 0.9024\n",
            "Epoch 24/1000\n",
            "24/40 [=================>............] - ETA: 0s - loss: 0.8305 - accuracy: 0.6999\n",
            "Epoch 24: saving model to model/keypoint_classifier/keypoint_classifier6.hdf5\n",
            "40/40 [==============================] - 0s 3ms/step - loss: 0.8191 - accuracy: 0.7054 - val_loss: 0.4460 - val_accuracy: 0.9266\n",
            "Epoch 25/1000\n",
            "40/40 [==============================] - ETA: 0s - loss: 0.8299 - accuracy: 0.7034\n",
            "Epoch 25: saving model to model/keypoint_classifier/keypoint_classifier6.hdf5\n",
            "40/40 [==============================] - 0s 4ms/step - loss: 0.8299 - accuracy: 0.7034 - val_loss: 0.4327 - val_accuracy: 0.9249\n",
            "Epoch 26/1000\n",
            "29/40 [====================>.........] - ETA: 0s - loss: 0.8222 - accuracy: 0.7085\n",
            "Epoch 26: saving model to model/keypoint_classifier/keypoint_classifier6.hdf5\n",
            "40/40 [==============================] - 0s 3ms/step - loss: 0.8098 - accuracy: 0.7127 - val_loss: 0.4177 - val_accuracy: 0.9296\n",
            "Epoch 27/1000\n",
            "32/40 [=======================>......] - ETA: 0s - loss: 0.7867 - accuracy: 0.7170\n",
            "Epoch 27: saving model to model/keypoint_classifier/keypoint_classifier6.hdf5\n",
            "40/40 [==============================] - 0s 3ms/step - loss: 0.7860 - accuracy: 0.7174 - val_loss: 0.4038 - val_accuracy: 0.9331\n",
            "Epoch 28/1000\n",
            "23/40 [================>.............] - ETA: 0s - loss: 0.7761 - accuracy: 0.7181\n",
            "Epoch 28: saving model to model/keypoint_classifier/keypoint_classifier6.hdf5\n",
            "40/40 [==============================] - 0s 3ms/step - loss: 0.7826 - accuracy: 0.7103 - val_loss: 0.3951 - val_accuracy: 0.9314\n",
            "Epoch 29/1000\n",
            "30/40 [=====================>........] - ETA: 0s - loss: 0.7633 - accuracy: 0.7339\n",
            "Epoch 29: saving model to model/keypoint_classifier/keypoint_classifier6.hdf5\n",
            "40/40 [==============================] - 0s 3ms/step - loss: 0.7689 - accuracy: 0.7275 - val_loss: 0.3782 - val_accuracy: 0.9343\n",
            "Epoch 30/1000\n",
            "28/40 [====================>.........] - ETA: 0s - loss: 0.7613 - accuracy: 0.7196\n",
            "Epoch 30: saving model to model/keypoint_classifier/keypoint_classifier6.hdf5\n",
            "40/40 [==============================] - 0s 3ms/step - loss: 0.7614 - accuracy: 0.7230 - val_loss: 0.3618 - val_accuracy: 0.9367\n",
            "Epoch 31/1000\n",
            "28/40 [====================>.........] - ETA: 0s - loss: 0.7566 - accuracy: 0.7257\n",
            "Epoch 31: saving model to model/keypoint_classifier/keypoint_classifier6.hdf5\n",
            "40/40 [==============================] - 0s 3ms/step - loss: 0.7476 - accuracy: 0.7257 - val_loss: 0.3575 - val_accuracy: 0.9402\n",
            "Epoch 32/1000\n",
            "31/40 [======================>.......] - ETA: 0s - loss: 0.7455 - accuracy: 0.7263\n",
            "Epoch 32: saving model to model/keypoint_classifier/keypoint_classifier6.hdf5\n",
            "40/40 [==============================] - 0s 9ms/step - loss: 0.7479 - accuracy: 0.7273 - val_loss: 0.3500 - val_accuracy: 0.9402\n",
            "Epoch 33/1000\n",
            "34/40 [========================>.....] - ETA: 0s - loss: 0.7402 - accuracy: 0.7353\n",
            "Epoch 33: saving model to model/keypoint_classifier/keypoint_classifier6.hdf5\n",
            "40/40 [==============================] - 0s 9ms/step - loss: 0.7366 - accuracy: 0.7360 - val_loss: 0.3503 - val_accuracy: 0.9432\n",
            "Epoch 34/1000\n",
            "36/40 [==========================>...] - ETA: 0s - loss: 0.7191 - accuracy: 0.7361\n",
            "Epoch 34: saving model to model/keypoint_classifier/keypoint_classifier6.hdf5\n",
            "40/40 [==============================] - 0s 7ms/step - loss: 0.7173 - accuracy: 0.7374 - val_loss: 0.3312 - val_accuracy: 0.9444\n",
            "Epoch 35/1000\n",
            "35/40 [=========================>....] - ETA: 0s - loss: 0.7168 - accuracy: 0.7344\n",
            "Epoch 35: saving model to model/keypoint_classifier/keypoint_classifier6.hdf5\n",
            "40/40 [==============================] - 0s 7ms/step - loss: 0.7141 - accuracy: 0.7354 - val_loss: 0.3334 - val_accuracy: 0.9426\n",
            "Epoch 36/1000\n",
            "36/40 [==========================>...] - ETA: 0s - loss: 0.7063 - accuracy: 0.7361\n",
            "Epoch 36: saving model to model/keypoint_classifier/keypoint_classifier6.hdf5\n",
            "40/40 [==============================] - 0s 6ms/step - loss: 0.7033 - accuracy: 0.7368 - val_loss: 0.3158 - val_accuracy: 0.9473\n",
            "Epoch 37/1000\n",
            "36/40 [==========================>...] - ETA: 0s - loss: 0.6991 - accuracy: 0.7435\n",
            "Epoch 37: saving model to model/keypoint_classifier/keypoint_classifier6.hdf5\n",
            "40/40 [==============================] - 0s 8ms/step - loss: 0.6981 - accuracy: 0.7449 - val_loss: 0.3188 - val_accuracy: 0.9467\n",
            "Epoch 38/1000\n",
            "34/40 [========================>.....] - ETA: 0s - loss: 0.7079 - accuracy: 0.7394\n",
            "Epoch 38: saving model to model/keypoint_classifier/keypoint_classifier6.hdf5\n",
            "40/40 [==============================] - 0s 9ms/step - loss: 0.7018 - accuracy: 0.7425 - val_loss: 0.3058 - val_accuracy: 0.9479\n",
            "Epoch 39/1000\n",
            "36/40 [==========================>...] - ETA: 0s - loss: 0.6892 - accuracy: 0.7391\n",
            "Epoch 39: saving model to model/keypoint_classifier/keypoint_classifier6.hdf5\n",
            "40/40 [==============================] - 0s 8ms/step - loss: 0.6894 - accuracy: 0.7401 - val_loss: 0.3117 - val_accuracy: 0.9426\n",
            "Epoch 40/1000\n",
            "25/40 [=================>............] - ETA: 0s - loss: 0.6890 - accuracy: 0.7472\n",
            "Epoch 40: saving model to model/keypoint_classifier/keypoint_classifier6.hdf5\n",
            "40/40 [==============================] - 0s 7ms/step - loss: 0.6784 - accuracy: 0.7510 - val_loss: 0.3097 - val_accuracy: 0.9373\n",
            "Epoch 41/1000\n",
            "36/40 [==========================>...] - ETA: 0s - loss: 0.6841 - accuracy: 0.7548\n",
            "Epoch 41: saving model to model/keypoint_classifier/keypoint_classifier6.hdf5\n",
            "40/40 [==============================] - 0s 6ms/step - loss: 0.6800 - accuracy: 0.7557 - val_loss: 0.2991 - val_accuracy: 0.9568\n",
            "Epoch 42/1000\n",
            "33/40 [=======================>......] - ETA: 0s - loss: 0.6674 - accuracy: 0.7491\n",
            "Epoch 42: saving model to model/keypoint_classifier/keypoint_classifier6.hdf5\n",
            "40/40 [==============================] - 0s 8ms/step - loss: 0.6708 - accuracy: 0.7518 - val_loss: 0.3052 - val_accuracy: 0.9562\n",
            "Epoch 43/1000\n",
            "34/40 [========================>.....] - ETA: 0s - loss: 0.6779 - accuracy: 0.7599\n",
            "Epoch 43: saving model to model/keypoint_classifier/keypoint_classifier6.hdf5\n",
            "40/40 [==============================] - 0s 6ms/step - loss: 0.6803 - accuracy: 0.7567 - val_loss: 0.2931 - val_accuracy: 0.9568\n",
            "Epoch 44/1000\n",
            "35/40 [=========================>....] - ETA: 0s - loss: 0.6442 - accuracy: 0.7618\n",
            "Epoch 44: saving model to model/keypoint_classifier/keypoint_classifier6.hdf5\n",
            "40/40 [==============================] - 0s 8ms/step - loss: 0.6431 - accuracy: 0.7616 - val_loss: 0.2930 - val_accuracy: 0.9568\n",
            "Epoch 45/1000\n",
            "29/40 [====================>.........] - ETA: 0s - loss: 0.6677 - accuracy: 0.7592\n",
            "Epoch 45: saving model to model/keypoint_classifier/keypoint_classifier6.hdf5\n",
            "40/40 [==============================] - 0s 6ms/step - loss: 0.6637 - accuracy: 0.7593 - val_loss: 0.2909 - val_accuracy: 0.9491\n",
            "Epoch 46/1000\n",
            "33/40 [=======================>......] - ETA: 0s - loss: 0.6457 - accuracy: 0.7630\n",
            "Epoch 46: saving model to model/keypoint_classifier/keypoint_classifier6.hdf5\n",
            "40/40 [==============================] - 0s 3ms/step - loss: 0.6484 - accuracy: 0.7642 - val_loss: 0.2727 - val_accuracy: 0.9568\n",
            "Epoch 47/1000\n",
            "30/40 [=====================>........] - ETA: 0s - loss: 0.6429 - accuracy: 0.7654\n",
            "Epoch 47: saving model to model/keypoint_classifier/keypoint_classifier6.hdf5\n",
            "40/40 [==============================] - 0s 4ms/step - loss: 0.6417 - accuracy: 0.7687 - val_loss: 0.2715 - val_accuracy: 0.9604\n",
            "Epoch 48/1000\n",
            "27/40 [===================>..........] - ETA: 0s - loss: 0.6608 - accuracy: 0.7665\n",
            "Epoch 48: saving model to model/keypoint_classifier/keypoint_classifier6.hdf5\n",
            "40/40 [==============================] - 0s 3ms/step - loss: 0.6371 - accuracy: 0.7727 - val_loss: 0.2635 - val_accuracy: 0.9574\n",
            "Epoch 49/1000\n",
            "29/40 [====================>.........] - ETA: 0s - loss: 0.6182 - accuracy: 0.7777\n",
            "Epoch 49: saving model to model/keypoint_classifier/keypoint_classifier6.hdf5\n",
            "40/40 [==============================] - 0s 3ms/step - loss: 0.6226 - accuracy: 0.7758 - val_loss: 0.2604 - val_accuracy: 0.9604\n",
            "Epoch 50/1000\n",
            "27/40 [===================>..........] - ETA: 0s - loss: 0.6242 - accuracy: 0.7668\n",
            "Epoch 50: saving model to model/keypoint_classifier/keypoint_classifier6.hdf5\n",
            "40/40 [==============================] - 0s 3ms/step - loss: 0.6207 - accuracy: 0.7709 - val_loss: 0.2608 - val_accuracy: 0.9604\n",
            "Epoch 51/1000\n",
            "29/40 [====================>.........] - ETA: 0s - loss: 0.6355 - accuracy: 0.7748\n",
            "Epoch 51: saving model to model/keypoint_classifier/keypoint_classifier6.hdf5\n",
            "40/40 [==============================] - 0s 3ms/step - loss: 0.6257 - accuracy: 0.7802 - val_loss: 0.2577 - val_accuracy: 0.9598\n",
            "Epoch 52/1000\n",
            "29/40 [====================>.........] - ETA: 0s - loss: 0.6089 - accuracy: 0.7799\n",
            "Epoch 52: saving model to model/keypoint_classifier/keypoint_classifier6.hdf5\n",
            "40/40 [==============================] - 0s 3ms/step - loss: 0.6217 - accuracy: 0.7780 - val_loss: 0.2454 - val_accuracy: 0.9604\n",
            "Epoch 53/1000\n",
            "30/40 [=====================>........] - ETA: 0s - loss: 0.6298 - accuracy: 0.7802\n",
            "Epoch 53: saving model to model/keypoint_classifier/keypoint_classifier6.hdf5\n",
            "40/40 [==============================] - 0s 3ms/step - loss: 0.6301 - accuracy: 0.7800 - val_loss: 0.2535 - val_accuracy: 0.9609\n",
            "Epoch 54/1000\n",
            "30/40 [=====================>........] - ETA: 0s - loss: 0.5882 - accuracy: 0.7951\n",
            "Epoch 54: saving model to model/keypoint_classifier/keypoint_classifier6.hdf5\n",
            "40/40 [==============================] - 0s 3ms/step - loss: 0.6057 - accuracy: 0.7904 - val_loss: 0.2508 - val_accuracy: 0.9609\n",
            "Epoch 55/1000\n",
            "23/40 [================>.............] - ETA: 0s - loss: 0.6498 - accuracy: 0.7809\n",
            "Epoch 55: saving model to model/keypoint_classifier/keypoint_classifier6.hdf5\n",
            "40/40 [==============================] - 0s 3ms/step - loss: 0.6246 - accuracy: 0.7865 - val_loss: 0.2465 - val_accuracy: 0.9604\n",
            "Epoch 56/1000\n",
            "25/40 [=================>............] - ETA: 0s - loss: 0.6133 - accuracy: 0.7922\n",
            "Epoch 56: saving model to model/keypoint_classifier/keypoint_classifier6.hdf5\n",
            "40/40 [==============================] - 0s 3ms/step - loss: 0.5961 - accuracy: 0.7970 - val_loss: 0.2377 - val_accuracy: 0.9604\n",
            "Epoch 57/1000\n",
            "30/40 [=====================>........] - ETA: 0s - loss: 0.6027 - accuracy: 0.7875\n",
            "Epoch 57: saving model to model/keypoint_classifier/keypoint_classifier6.hdf5\n",
            "40/40 [==============================] - 0s 3ms/step - loss: 0.5968 - accuracy: 0.7912 - val_loss: 0.2440 - val_accuracy: 0.9710\n",
            "Epoch 58/1000\n",
            "37/40 [==========================>...] - ETA: 0s - loss: 0.6021 - accuracy: 0.7891\n",
            "Epoch 58: saving model to model/keypoint_classifier/keypoint_classifier6.hdf5\n",
            "40/40 [==============================] - 0s 4ms/step - loss: 0.5981 - accuracy: 0.7910 - val_loss: 0.2363 - val_accuracy: 0.9716\n",
            "Epoch 59/1000\n",
            "28/40 [====================>.........] - ETA: 0s - loss: 0.5922 - accuracy: 0.7924\n",
            "Epoch 59: saving model to model/keypoint_classifier/keypoint_classifier6.hdf5\n",
            "40/40 [==============================] - 0s 3ms/step - loss: 0.5916 - accuracy: 0.7901 - val_loss: 0.2320 - val_accuracy: 0.9722\n",
            "Epoch 60/1000\n",
            "29/40 [====================>.........] - ETA: 0s - loss: 0.5872 - accuracy: 0.7934\n",
            "Epoch 60: saving model to model/keypoint_classifier/keypoint_classifier6.hdf5\n",
            "40/40 [==============================] - 0s 3ms/step - loss: 0.5827 - accuracy: 0.7958 - val_loss: 0.2266 - val_accuracy: 0.9722\n",
            "Epoch 61/1000\n",
            "25/40 [=================>............] - ETA: 0s - loss: 0.5676 - accuracy: 0.8022\n",
            "Epoch 61: saving model to model/keypoint_classifier/keypoint_classifier6.hdf5\n",
            "40/40 [==============================] - 0s 3ms/step - loss: 0.5655 - accuracy: 0.8049 - val_loss: 0.2152 - val_accuracy: 0.9722\n",
            "Epoch 62/1000\n",
            "28/40 [====================>.........] - ETA: 0s - loss: 0.5823 - accuracy: 0.7980\n",
            "Epoch 62: saving model to model/keypoint_classifier/keypoint_classifier6.hdf5\n",
            "40/40 [==============================] - 0s 4ms/step - loss: 0.5852 - accuracy: 0.7997 - val_loss: 0.2163 - val_accuracy: 0.9722\n",
            "Epoch 63/1000\n",
            "20/40 [==============>...............] - ETA: 0s - loss: 0.5664 - accuracy: 0.7961\n",
            "Epoch 63: saving model to model/keypoint_classifier/keypoint_classifier6.hdf5\n",
            "40/40 [==============================] - 0s 3ms/step - loss: 0.5661 - accuracy: 0.8070 - val_loss: 0.2114 - val_accuracy: 0.9734\n",
            "Epoch 64/1000\n",
            "30/40 [=====================>........] - ETA: 0s - loss: 0.5773 - accuracy: 0.8008\n",
            "Epoch 64: saving model to model/keypoint_classifier/keypoint_classifier6.hdf5\n",
            "40/40 [==============================] - 0s 3ms/step - loss: 0.5700 - accuracy: 0.8054 - val_loss: 0.2182 - val_accuracy: 0.9710\n",
            "Epoch 65/1000\n",
            "30/40 [=====================>........] - ETA: 0s - loss: 0.5436 - accuracy: 0.8146\n",
            "Epoch 65: saving model to model/keypoint_classifier/keypoint_classifier6.hdf5\n",
            "40/40 [==============================] - 0s 3ms/step - loss: 0.5437 - accuracy: 0.8125 - val_loss: 0.2085 - val_accuracy: 0.9734\n",
            "Epoch 66/1000\n",
            "29/40 [====================>.........] - ETA: 0s - loss: 0.5650 - accuracy: 0.8060\n",
            "Epoch 66: saving model to model/keypoint_classifier/keypoint_classifier6.hdf5\n",
            "40/40 [==============================] - 0s 3ms/step - loss: 0.5507 - accuracy: 0.8155 - val_loss: 0.2063 - val_accuracy: 0.9710\n",
            "Epoch 67/1000\n",
            "30/40 [=====================>........] - ETA: 0s - loss: 0.5758 - accuracy: 0.7997\n",
            "Epoch 67: saving model to model/keypoint_classifier/keypoint_classifier6.hdf5\n",
            "40/40 [==============================] - 0s 3ms/step - loss: 0.5779 - accuracy: 0.7989 - val_loss: 0.2010 - val_accuracy: 0.9734\n",
            "Epoch 68/1000\n",
            "36/40 [==========================>...] - ETA: 0s - loss: 0.5530 - accuracy: 0.8040\n",
            "Epoch 68: saving model to model/keypoint_classifier/keypoint_classifier6.hdf5\n",
            "40/40 [==============================] - 0s 5ms/step - loss: 0.5521 - accuracy: 0.8049 - val_loss: 0.2157 - val_accuracy: 0.9716\n",
            "Epoch 69/1000\n",
            "28/40 [====================>.........] - ETA: 0s - loss: 0.5496 - accuracy: 0.8111\n",
            "Epoch 69: saving model to model/keypoint_classifier/keypoint_classifier6.hdf5\n",
            "40/40 [==============================] - 0s 3ms/step - loss: 0.5373 - accuracy: 0.8159 - val_loss: 0.2043 - val_accuracy: 0.9746\n",
            "Epoch 70/1000\n",
            "27/40 [===================>..........] - ETA: 0s - loss: 0.5604 - accuracy: 0.8084\n",
            "Epoch 70: saving model to model/keypoint_classifier/keypoint_classifier6.hdf5\n",
            "40/40 [==============================] - 0s 3ms/step - loss: 0.5530 - accuracy: 0.8129 - val_loss: 0.1930 - val_accuracy: 0.9728\n",
            "Epoch 71/1000\n",
            "28/40 [====================>.........] - ETA: 0s - loss: 0.5554 - accuracy: 0.8083\n",
            "Epoch 71: saving model to model/keypoint_classifier/keypoint_classifier6.hdf5\n",
            "40/40 [==============================] - 0s 3ms/step - loss: 0.5502 - accuracy: 0.8110 - val_loss: 0.2019 - val_accuracy: 0.9746\n",
            "Epoch 72/1000\n",
            "29/40 [====================>.........] - ETA: 0s - loss: 0.5384 - accuracy: 0.8130\n",
            "Epoch 72: saving model to model/keypoint_classifier/keypoint_classifier6.hdf5\n",
            "40/40 [==============================] - 0s 3ms/step - loss: 0.5306 - accuracy: 0.8163 - val_loss: 0.1995 - val_accuracy: 0.9728\n",
            "Epoch 73/1000\n",
            "29/40 [====================>.........] - ETA: 0s - loss: 0.5242 - accuracy: 0.8233\n",
            "Epoch 73: saving model to model/keypoint_classifier/keypoint_classifier6.hdf5\n",
            "40/40 [==============================] - 0s 3ms/step - loss: 0.5409 - accuracy: 0.8139 - val_loss: 0.1997 - val_accuracy: 0.9740\n",
            "Epoch 74/1000\n",
            "21/40 [==============>...............] - ETA: 0s - loss: 0.5331 - accuracy: 0.8181\n",
            "Epoch 74: saving model to model/keypoint_classifier/keypoint_classifier6.hdf5\n",
            "40/40 [==============================] - 0s 4ms/step - loss: 0.5182 - accuracy: 0.8254 - val_loss: 0.1907 - val_accuracy: 0.9763\n",
            "Epoch 75/1000\n",
            "28/40 [====================>.........] - ETA: 0s - loss: 0.5469 - accuracy: 0.8150\n",
            "Epoch 75: saving model to model/keypoint_classifier/keypoint_classifier6.hdf5\n",
            "40/40 [==============================] - 0s 3ms/step - loss: 0.5458 - accuracy: 0.8122 - val_loss: 0.1910 - val_accuracy: 0.9799\n",
            "Epoch 76/1000\n",
            "26/40 [==================>...........] - ETA: 0s - loss: 0.5410 - accuracy: 0.8086\n",
            "Epoch 76: saving model to model/keypoint_classifier/keypoint_classifier6.hdf5\n",
            "40/40 [==============================] - 0s 3ms/step - loss: 0.5370 - accuracy: 0.8141 - val_loss: 0.1876 - val_accuracy: 0.9799\n",
            "Epoch 77/1000\n",
            "29/40 [====================>.........] - ETA: 0s - loss: 0.5479 - accuracy: 0.8136\n",
            "Epoch 77: saving model to model/keypoint_classifier/keypoint_classifier6.hdf5\n",
            "40/40 [==============================] - 0s 3ms/step - loss: 0.5447 - accuracy: 0.8137 - val_loss: 0.1909 - val_accuracy: 0.9817\n",
            "Epoch 78/1000\n",
            "27/40 [===================>..........] - ETA: 0s - loss: 0.5400 - accuracy: 0.8203\n",
            "Epoch 78: saving model to model/keypoint_classifier/keypoint_classifier6.hdf5\n",
            "40/40 [==============================] - 0s 4ms/step - loss: 0.5320 - accuracy: 0.8202 - val_loss: 0.1963 - val_accuracy: 0.9817\n",
            "Epoch 79/1000\n",
            "32/40 [=======================>......] - ETA: 0s - loss: 0.5391 - accuracy: 0.8174\n",
            "Epoch 79: saving model to model/keypoint_classifier/keypoint_classifier6.hdf5\n",
            "40/40 [==============================] - 0s 7ms/step - loss: 0.5381 - accuracy: 0.8189 - val_loss: 0.1800 - val_accuracy: 0.9817\n",
            "Epoch 80/1000\n",
            "32/40 [=======================>......] - ETA: 0s - loss: 0.5186 - accuracy: 0.8293\n",
            "Epoch 80: saving model to model/keypoint_classifier/keypoint_classifier6.hdf5\n",
            "40/40 [==============================] - 0s 5ms/step - loss: 0.5171 - accuracy: 0.8297 - val_loss: 0.1802 - val_accuracy: 0.9817\n",
            "Epoch 81/1000\n",
            "34/40 [========================>.....] - ETA: 0s - loss: 0.5411 - accuracy: 0.8199\n",
            "Epoch 81: saving model to model/keypoint_classifier/keypoint_classifier6.hdf5\n",
            "40/40 [==============================] - 0s 6ms/step - loss: 0.5344 - accuracy: 0.8240 - val_loss: 0.1839 - val_accuracy: 0.9817\n",
            "Epoch 82/1000\n",
            "33/40 [=======================>......] - ETA: 0s - loss: 0.5227 - accuracy: 0.8246\n",
            "Epoch 82: saving model to model/keypoint_classifier/keypoint_classifier6.hdf5\n",
            "40/40 [==============================] - 0s 7ms/step - loss: 0.5182 - accuracy: 0.8277 - val_loss: 0.1888 - val_accuracy: 0.9817\n",
            "Epoch 83/1000\n",
            "32/40 [=======================>......] - ETA: 0s - loss: 0.5048 - accuracy: 0.8254\n",
            "Epoch 83: saving model to model/keypoint_classifier/keypoint_classifier6.hdf5\n",
            "40/40 [==============================] - 0s 7ms/step - loss: 0.5007 - accuracy: 0.8264 - val_loss: 0.1806 - val_accuracy: 0.9817\n",
            "Epoch 84/1000\n",
            "30/40 [=====================>........] - ETA: 0s - loss: 0.5065 - accuracy: 0.8266\n",
            "Epoch 84: saving model to model/keypoint_classifier/keypoint_classifier6.hdf5\n",
            "40/40 [==============================] - 0s 7ms/step - loss: 0.5060 - accuracy: 0.8260 - val_loss: 0.1793 - val_accuracy: 0.9817\n",
            "Epoch 85/1000\n",
            "36/40 [==========================>...] - ETA: 0s - loss: 0.5183 - accuracy: 0.8262\n",
            "Epoch 85: saving model to model/keypoint_classifier/keypoint_classifier6.hdf5\n",
            "40/40 [==============================] - 0s 7ms/step - loss: 0.5169 - accuracy: 0.8277 - val_loss: 0.1827 - val_accuracy: 0.9787\n",
            "Epoch 86/1000\n",
            "35/40 [=========================>....] - ETA: 0s - loss: 0.5293 - accuracy: 0.8212\n",
            "Epoch 86: saving model to model/keypoint_classifier/keypoint_classifier6.hdf5\n",
            "40/40 [==============================] - 0s 6ms/step - loss: 0.5227 - accuracy: 0.8226 - val_loss: 0.1812 - val_accuracy: 0.9817\n",
            "Epoch 87/1000\n",
            "31/40 [======================>.......] - ETA: 0s - loss: 0.4891 - accuracy: 0.8339\n",
            "Epoch 87: saving model to model/keypoint_classifier/keypoint_classifier6.hdf5\n",
            "40/40 [==============================] - 0s 4ms/step - loss: 0.5010 - accuracy: 0.8301 - val_loss: 0.1740 - val_accuracy: 0.9817\n",
            "Epoch 88/1000\n",
            "26/40 [==================>...........] - ETA: 0s - loss: 0.5176 - accuracy: 0.8317\n",
            "Epoch 88: saving model to model/keypoint_classifier/keypoint_classifier6.hdf5\n",
            "40/40 [==============================] - 0s 7ms/step - loss: 0.5222 - accuracy: 0.8268 - val_loss: 0.1774 - val_accuracy: 0.9817\n",
            "Epoch 89/1000\n",
            "27/40 [===================>..........] - ETA: 0s - loss: 0.4922 - accuracy: 0.8371\n",
            "Epoch 89: saving model to model/keypoint_classifier/keypoint_classifier6.hdf5\n",
            "40/40 [==============================] - 0s 7ms/step - loss: 0.4934 - accuracy: 0.8368 - val_loss: 0.1763 - val_accuracy: 0.9811\n",
            "Epoch 90/1000\n",
            "35/40 [=========================>....] - ETA: 0s - loss: 0.5094 - accuracy: 0.8275\n",
            "Epoch 90: saving model to model/keypoint_classifier/keypoint_classifier6.hdf5\n",
            "40/40 [==============================] - 0s 3ms/step - loss: 0.5079 - accuracy: 0.8283 - val_loss: 0.1695 - val_accuracy: 0.9817\n",
            "Epoch 91/1000\n",
            "27/40 [===================>..........] - ETA: 0s - loss: 0.4921 - accuracy: 0.8368\n",
            "Epoch 91: saving model to model/keypoint_classifier/keypoint_classifier6.hdf5\n",
            "40/40 [==============================] - 0s 3ms/step - loss: 0.4950 - accuracy: 0.8335 - val_loss: 0.1789 - val_accuracy: 0.9817\n",
            "Epoch 92/1000\n",
            "28/40 [====================>.........] - ETA: 0s - loss: 0.5035 - accuracy: 0.8326\n",
            "Epoch 92: saving model to model/keypoint_classifier/keypoint_classifier6.hdf5\n",
            "40/40 [==============================] - 0s 3ms/step - loss: 0.5077 - accuracy: 0.8315 - val_loss: 0.1692 - val_accuracy: 0.9817\n",
            "Epoch 93/1000\n",
            "28/40 [====================>.........] - ETA: 0s - loss: 0.5007 - accuracy: 0.8245\n",
            "Epoch 93: saving model to model/keypoint_classifier/keypoint_classifier6.hdf5\n",
            "40/40 [==============================] - 0s 3ms/step - loss: 0.4994 - accuracy: 0.8266 - val_loss: 0.1610 - val_accuracy: 0.9817\n",
            "Epoch 94/1000\n",
            "24/40 [=================>............] - ETA: 0s - loss: 0.4984 - accuracy: 0.8314\n",
            "Epoch 94: saving model to model/keypoint_classifier/keypoint_classifier6.hdf5\n",
            "40/40 [==============================] - 0s 3ms/step - loss: 0.5047 - accuracy: 0.8283 - val_loss: 0.1633 - val_accuracy: 0.9817\n",
            "Epoch 95/1000\n",
            "29/40 [====================>.........] - ETA: 0s - loss: 0.5122 - accuracy: 0.8311\n",
            "Epoch 95: saving model to model/keypoint_classifier/keypoint_classifier6.hdf5\n",
            "40/40 [==============================] - 0s 3ms/step - loss: 0.5031 - accuracy: 0.8333 - val_loss: 0.1637 - val_accuracy: 0.9817\n",
            "Epoch 96/1000\n",
            "30/40 [=====================>........] - ETA: 0s - loss: 0.4975 - accuracy: 0.8318\n",
            "Epoch 96: saving model to model/keypoint_classifier/keypoint_classifier6.hdf5\n",
            "40/40 [==============================] - 0s 3ms/step - loss: 0.4942 - accuracy: 0.8341 - val_loss: 0.1707 - val_accuracy: 0.9817\n",
            "Epoch 97/1000\n",
            "26/40 [==================>...........] - ETA: 0s - loss: 0.5017 - accuracy: 0.8332\n",
            "Epoch 97: saving model to model/keypoint_classifier/keypoint_classifier6.hdf5\n",
            "40/40 [==============================] - 0s 3ms/step - loss: 0.4933 - accuracy: 0.8354 - val_loss: 0.1645 - val_accuracy: 0.9799\n",
            "Epoch 98/1000\n",
            "17/40 [===========>..................] - ETA: 0s - loss: 0.4943 - accuracy: 0.8346\n",
            "Epoch 98: saving model to model/keypoint_classifier/keypoint_classifier6.hdf5\n",
            "40/40 [==============================] - 0s 4ms/step - loss: 0.4856 - accuracy: 0.8364 - val_loss: 0.1628 - val_accuracy: 0.9817\n",
            "Epoch 99/1000\n",
            "29/40 [====================>.........] - ETA: 0s - loss: 0.4617 - accuracy: 0.8432\n",
            "Epoch 99: saving model to model/keypoint_classifier/keypoint_classifier6.hdf5\n",
            "40/40 [==============================] - 0s 3ms/step - loss: 0.4698 - accuracy: 0.8396 - val_loss: 0.1618 - val_accuracy: 0.9822\n",
            "Epoch 100/1000\n",
            "28/40 [====================>.........] - ETA: 0s - loss: 0.5052 - accuracy: 0.8301\n",
            "Epoch 100: saving model to model/keypoint_classifier/keypoint_classifier6.hdf5\n",
            "40/40 [==============================] - 0s 3ms/step - loss: 0.4936 - accuracy: 0.8348 - val_loss: 0.1560 - val_accuracy: 0.9817\n",
            "Epoch 101/1000\n",
            "25/40 [=================>............] - ETA: 0s - loss: 0.5028 - accuracy: 0.8288\n",
            "Epoch 101: saving model to model/keypoint_classifier/keypoint_classifier6.hdf5\n",
            "40/40 [==============================] - 0s 3ms/step - loss: 0.4944 - accuracy: 0.8325 - val_loss: 0.1681 - val_accuracy: 0.9787\n",
            "Epoch 102/1000\n",
            "28/40 [====================>.........] - ETA: 0s - loss: 0.5055 - accuracy: 0.8340\n",
            "Epoch 102: saving model to model/keypoint_classifier/keypoint_classifier6.hdf5\n",
            "40/40 [==============================] - 0s 3ms/step - loss: 0.5013 - accuracy: 0.8327 - val_loss: 0.1681 - val_accuracy: 0.9811\n",
            "Epoch 103/1000\n",
            "27/40 [===================>..........] - ETA: 0s - loss: 0.4875 - accuracy: 0.8356\n",
            "Epoch 103: saving model to model/keypoint_classifier/keypoint_classifier6.hdf5\n",
            "40/40 [==============================] - 0s 3ms/step - loss: 0.4850 - accuracy: 0.8358 - val_loss: 0.1521 - val_accuracy: 0.9817\n",
            "Epoch 104/1000\n",
            "30/40 [=====================>........] - ETA: 0s - loss: 0.4748 - accuracy: 0.8393\n",
            "Epoch 104: saving model to model/keypoint_classifier/keypoint_classifier6.hdf5\n",
            "40/40 [==============================] - 0s 3ms/step - loss: 0.4777 - accuracy: 0.8386 - val_loss: 0.1610 - val_accuracy: 0.9817\n",
            "Epoch 105/1000\n",
            "28/40 [====================>.........] - ETA: 0s - loss: 0.4771 - accuracy: 0.8426\n",
            "Epoch 105: saving model to model/keypoint_classifier/keypoint_classifier6.hdf5\n",
            "40/40 [==============================] - 0s 3ms/step - loss: 0.4749 - accuracy: 0.8421 - val_loss: 0.1576 - val_accuracy: 0.9817\n",
            "Epoch 106/1000\n",
            "30/40 [=====================>........] - ETA: 0s - loss: 0.4960 - accuracy: 0.8357\n",
            "Epoch 106: saving model to model/keypoint_classifier/keypoint_classifier6.hdf5\n",
            "40/40 [==============================] - 0s 3ms/step - loss: 0.4887 - accuracy: 0.8382 - val_loss: 0.1664 - val_accuracy: 0.9811\n",
            "Epoch 107/1000\n",
            "40/40 [==============================] - ETA: 0s - loss: 0.4776 - accuracy: 0.8404\n",
            "Epoch 107: saving model to model/keypoint_classifier/keypoint_classifier6.hdf5\n",
            "40/40 [==============================] - 0s 4ms/step - loss: 0.4776 - accuracy: 0.8404 - val_loss: 0.1675 - val_accuracy: 0.9799\n",
            "Epoch 108/1000\n",
            "29/40 [====================>.........] - ETA: 0s - loss: 0.4840 - accuracy: 0.8376\n",
            "Epoch 108: saving model to model/keypoint_classifier/keypoint_classifier6.hdf5\n",
            "40/40 [==============================] - 0s 3ms/step - loss: 0.4701 - accuracy: 0.8427 - val_loss: 0.1621 - val_accuracy: 0.9811\n",
            "Epoch 109/1000\n",
            "29/40 [====================>.........] - ETA: 0s - loss: 0.4661 - accuracy: 0.8446\n",
            "Epoch 109: saving model to model/keypoint_classifier/keypoint_classifier6.hdf5\n",
            "40/40 [==============================] - 0s 3ms/step - loss: 0.4696 - accuracy: 0.8449 - val_loss: 0.1560 - val_accuracy: 0.9793\n",
            "Epoch 110/1000\n",
            "28/40 [====================>.........] - ETA: 0s - loss: 0.4610 - accuracy: 0.8454\n",
            "Epoch 110: saving model to model/keypoint_classifier/keypoint_classifier6.hdf5\n",
            "40/40 [==============================] - 0s 3ms/step - loss: 0.4738 - accuracy: 0.8437 - val_loss: 0.1699 - val_accuracy: 0.9751\n",
            "Epoch 111/1000\n",
            "30/40 [=====================>........] - ETA: 0s - loss: 0.4891 - accuracy: 0.8292\n",
            "Epoch 111: saving model to model/keypoint_classifier/keypoint_classifier6.hdf5\n",
            "40/40 [==============================] - 0s 3ms/step - loss: 0.4836 - accuracy: 0.8331 - val_loss: 0.1523 - val_accuracy: 0.9817\n",
            "Epoch 112/1000\n",
            "31/40 [======================>.......] - ETA: 0s - loss: 0.4813 - accuracy: 0.8362\n",
            "Epoch 112: saving model to model/keypoint_classifier/keypoint_classifier6.hdf5\n",
            "40/40 [==============================] - 0s 3ms/step - loss: 0.4840 - accuracy: 0.8370 - val_loss: 0.1590 - val_accuracy: 0.9811\n",
            "Epoch 113/1000\n",
            "28/40 [====================>.........] - ETA: 0s - loss: 0.4691 - accuracy: 0.8424\n",
            "Epoch 113: saving model to model/keypoint_classifier/keypoint_classifier6.hdf5\n",
            "40/40 [==============================] - 0s 3ms/step - loss: 0.4686 - accuracy: 0.8441 - val_loss: 0.1500 - val_accuracy: 0.9811\n",
            "Epoch 114/1000\n",
            "30/40 [=====================>........] - ETA: 0s - loss: 0.4555 - accuracy: 0.8469\n",
            "Epoch 114: saving model to model/keypoint_classifier/keypoint_classifier6.hdf5\n",
            "40/40 [==============================] - 0s 3ms/step - loss: 0.4659 - accuracy: 0.8427 - val_loss: 0.1428 - val_accuracy: 0.9817\n",
            "Epoch 115/1000\n",
            "28/40 [====================>.........] - ETA: 0s - loss: 0.4715 - accuracy: 0.8345\n",
            "Epoch 115: saving model to model/keypoint_classifier/keypoint_classifier6.hdf5\n",
            "40/40 [==============================] - 0s 3ms/step - loss: 0.4666 - accuracy: 0.8421 - val_loss: 0.1542 - val_accuracy: 0.9811\n",
            "Epoch 116/1000\n",
            "21/40 [==============>...............] - ETA: 0s - loss: 0.4525 - accuracy: 0.8449\n",
            "Epoch 116: saving model to model/keypoint_classifier/keypoint_classifier6.hdf5\n",
            "40/40 [==============================] - 0s 4ms/step - loss: 0.4609 - accuracy: 0.8414 - val_loss: 0.1492 - val_accuracy: 0.9811\n",
            "Epoch 117/1000\n",
            "30/40 [=====================>........] - ETA: 0s - loss: 0.4705 - accuracy: 0.8435\n",
            "Epoch 117: saving model to model/keypoint_classifier/keypoint_classifier6.hdf5\n",
            "40/40 [==============================] - 0s 3ms/step - loss: 0.4643 - accuracy: 0.8479 - val_loss: 0.1573 - val_accuracy: 0.9817\n",
            "Epoch 118/1000\n",
            "29/40 [====================>.........] - ETA: 0s - loss: 0.4674 - accuracy: 0.8411\n",
            "Epoch 118: saving model to model/keypoint_classifier/keypoint_classifier6.hdf5\n",
            "40/40 [==============================] - 0s 3ms/step - loss: 0.4644 - accuracy: 0.8447 - val_loss: 0.1497 - val_accuracy: 0.9817\n",
            "Epoch 119/1000\n",
            "30/40 [=====================>........] - ETA: 0s - loss: 0.4620 - accuracy: 0.8422\n",
            "Epoch 119: saving model to model/keypoint_classifier/keypoint_classifier6.hdf5\n",
            "40/40 [==============================] - 0s 3ms/step - loss: 0.4616 - accuracy: 0.8441 - val_loss: 0.1490 - val_accuracy: 0.9811\n",
            "Epoch 120/1000\n",
            "29/40 [====================>.........] - ETA: 0s - loss: 0.4604 - accuracy: 0.8462\n",
            "Epoch 120: saving model to model/keypoint_classifier/keypoint_classifier6.hdf5\n",
            "40/40 [==============================] - 0s 3ms/step - loss: 0.4568 - accuracy: 0.8487 - val_loss: 0.1406 - val_accuracy: 0.9817\n",
            "Epoch 121/1000\n",
            "30/40 [=====================>........] - ETA: 0s - loss: 0.4751 - accuracy: 0.8424\n",
            "Epoch 121: saving model to model/keypoint_classifier/keypoint_classifier6.hdf5\n",
            "40/40 [==============================] - 0s 3ms/step - loss: 0.4741 - accuracy: 0.8408 - val_loss: 0.1615 - val_accuracy: 0.9781\n",
            "Epoch 122/1000\n",
            "28/40 [====================>.........] - ETA: 0s - loss: 0.4365 - accuracy: 0.8560\n",
            "Epoch 122: saving model to model/keypoint_classifier/keypoint_classifier6.hdf5\n",
            "40/40 [==============================] - 0s 3ms/step - loss: 0.4482 - accuracy: 0.8510 - val_loss: 0.1482 - val_accuracy: 0.9811\n",
            "Epoch 123/1000\n",
            "28/40 [====================>.........] - ETA: 0s - loss: 0.4618 - accuracy: 0.8432\n",
            "Epoch 123: saving model to model/keypoint_classifier/keypoint_classifier6.hdf5\n",
            "40/40 [==============================] - 0s 3ms/step - loss: 0.4730 - accuracy: 0.8410 - val_loss: 0.1535 - val_accuracy: 0.9811\n",
            "Epoch 124/1000\n",
            "28/40 [====================>.........] - ETA: 0s - loss: 0.4328 - accuracy: 0.8569\n",
            "Epoch 124: saving model to model/keypoint_classifier/keypoint_classifier6.hdf5\n",
            "40/40 [==============================] - 0s 3ms/step - loss: 0.4414 - accuracy: 0.8524 - val_loss: 0.1592 - val_accuracy: 0.9710\n",
            "Epoch 125/1000\n",
            "21/40 [==============>...............] - ETA: 0s - loss: 0.4723 - accuracy: 0.8423\n",
            "Epoch 125: saving model to model/keypoint_classifier/keypoint_classifier6.hdf5\n",
            "40/40 [==============================] - 0s 4ms/step - loss: 0.4611 - accuracy: 0.8493 - val_loss: 0.1446 - val_accuracy: 0.9805\n",
            "Epoch 126/1000\n",
            "31/40 [======================>.......] - ETA: 0s - loss: 0.4488 - accuracy: 0.8468\n",
            "Epoch 126: saving model to model/keypoint_classifier/keypoint_classifier6.hdf5\n",
            "40/40 [==============================] - 0s 6ms/step - loss: 0.4564 - accuracy: 0.8425 - val_loss: 0.1475 - val_accuracy: 0.9870\n",
            "Epoch 127/1000\n",
            "28/40 [====================>.........] - ETA: 0s - loss: 0.4621 - accuracy: 0.8502\n",
            "Epoch 127: saving model to model/keypoint_classifier/keypoint_classifier6.hdf5\n",
            "40/40 [==============================] - 0s 6ms/step - loss: 0.4511 - accuracy: 0.8512 - val_loss: 0.1590 - val_accuracy: 0.9704\n",
            "Epoch 128/1000\n",
            "28/40 [====================>.........] - ETA: 0s - loss: 0.4343 - accuracy: 0.8574\n",
            "Epoch 128: saving model to model/keypoint_classifier/keypoint_classifier6.hdf5\n",
            "40/40 [==============================] - 0s 3ms/step - loss: 0.4494 - accuracy: 0.8518 - val_loss: 0.1424 - val_accuracy: 0.9817\n",
            "Epoch 129/1000\n",
            "29/40 [====================>.........] - ETA: 0s - loss: 0.4473 - accuracy: 0.8499\n",
            "Epoch 129: saving model to model/keypoint_classifier/keypoint_classifier6.hdf5\n",
            "40/40 [==============================] - 0s 3ms/step - loss: 0.4523 - accuracy: 0.8489 - val_loss: 0.1487 - val_accuracy: 0.9781\n",
            "Epoch 130/1000\n",
            "28/40 [====================>.........] - ETA: 0s - loss: 0.4555 - accuracy: 0.8449\n",
            "Epoch 130: saving model to model/keypoint_classifier/keypoint_classifier6.hdf5\n",
            "40/40 [==============================] - 0s 3ms/step - loss: 0.4526 - accuracy: 0.8463 - val_loss: 0.1405 - val_accuracy: 0.9775\n",
            "Epoch 131/1000\n",
            "27/40 [===================>..........] - ETA: 0s - loss: 0.4596 - accuracy: 0.8409\n",
            "Epoch 131: saving model to model/keypoint_classifier/keypoint_classifier6.hdf5\n",
            "40/40 [==============================] - 0s 3ms/step - loss: 0.4600 - accuracy: 0.8408 - val_loss: 0.1404 - val_accuracy: 0.9817\n",
            "Epoch 132/1000\n",
            "28/40 [====================>.........] - ETA: 0s - loss: 0.4699 - accuracy: 0.8477\n",
            "Epoch 132: saving model to model/keypoint_classifier/keypoint_classifier6.hdf5\n",
            "40/40 [==============================] - 0s 3ms/step - loss: 0.4609 - accuracy: 0.8489 - val_loss: 0.1500 - val_accuracy: 0.9805\n",
            "Epoch 133/1000\n",
            "29/40 [====================>.........] - ETA: 0s - loss: 0.4603 - accuracy: 0.8473\n",
            "Epoch 133: saving model to model/keypoint_classifier/keypoint_classifier6.hdf5\n",
            "40/40 [==============================] - 0s 3ms/step - loss: 0.4731 - accuracy: 0.8439 - val_loss: 0.1445 - val_accuracy: 0.9787\n",
            "Epoch 134/1000\n",
            "39/40 [============================>.] - ETA: 0s - loss: 0.4442 - accuracy: 0.8508\n",
            "Epoch 134: saving model to model/keypoint_classifier/keypoint_classifier6.hdf5\n",
            "40/40 [==============================] - 0s 4ms/step - loss: 0.4466 - accuracy: 0.8496 - val_loss: 0.1489 - val_accuracy: 0.9704\n",
            "Epoch 135/1000\n",
            "32/40 [=======================>......] - ETA: 0s - loss: 0.4427 - accuracy: 0.8523\n",
            "Epoch 135: saving model to model/keypoint_classifier/keypoint_classifier6.hdf5\n",
            "40/40 [==============================] - 0s 3ms/step - loss: 0.4455 - accuracy: 0.8504 - val_loss: 0.1535 - val_accuracy: 0.9811\n",
            "Epoch 136/1000\n",
            "26/40 [==================>...........] - ETA: 0s - loss: 0.4415 - accuracy: 0.8567\n",
            "Epoch 136: saving model to model/keypoint_classifier/keypoint_classifier6.hdf5\n",
            "40/40 [==============================] - 0s 3ms/step - loss: 0.4426 - accuracy: 0.8540 - val_loss: 0.1429 - val_accuracy: 0.9793\n",
            "Epoch 137/1000\n",
            "29/40 [====================>.........] - ETA: 0s - loss: 0.4803 - accuracy: 0.8419\n",
            "Epoch 137: saving model to model/keypoint_classifier/keypoint_classifier6.hdf5\n",
            "40/40 [==============================] - 0s 3ms/step - loss: 0.4763 - accuracy: 0.8414 - val_loss: 0.1545 - val_accuracy: 0.9621\n",
            "Epoch 138/1000\n",
            "28/40 [====================>.........] - ETA: 0s - loss: 0.4391 - accuracy: 0.8482\n",
            "Epoch 138: saving model to model/keypoint_classifier/keypoint_classifier6.hdf5\n",
            "40/40 [==============================] - 0s 3ms/step - loss: 0.4308 - accuracy: 0.8514 - val_loss: 0.1487 - val_accuracy: 0.9686\n",
            "Epoch 139/1000\n",
            "30/40 [=====================>........] - ETA: 0s - loss: 0.4276 - accuracy: 0.8589\n",
            "Epoch 139: saving model to model/keypoint_classifier/keypoint_classifier6.hdf5\n",
            "40/40 [==============================] - 0s 3ms/step - loss: 0.4324 - accuracy: 0.8575 - val_loss: 0.1540 - val_accuracy: 0.9615\n",
            "Epoch 140/1000\n",
            "29/40 [====================>.........] - ETA: 0s - loss: 0.4535 - accuracy: 0.8497\n",
            "Epoch 140: saving model to model/keypoint_classifier/keypoint_classifier6.hdf5\n",
            "40/40 [==============================] - 0s 3ms/step - loss: 0.4540 - accuracy: 0.8473 - val_loss: 0.1363 - val_accuracy: 0.9828\n",
            "Epoch 141/1000\n",
            "27/40 [===================>..........] - ETA: 0s - loss: 0.4403 - accuracy: 0.8597\n",
            "Epoch 141: saving model to model/keypoint_classifier/keypoint_classifier6.hdf5\n",
            "40/40 [==============================] - 0s 3ms/step - loss: 0.4413 - accuracy: 0.8599 - val_loss: 0.1342 - val_accuracy: 0.9817\n",
            "Epoch 142/1000\n",
            "18/40 [============>.................] - ETA: 0s - loss: 0.4419 - accuracy: 0.8464\n",
            "Epoch 142: saving model to model/keypoint_classifier/keypoint_classifier6.hdf5\n",
            "40/40 [==============================] - 0s 4ms/step - loss: 0.4302 - accuracy: 0.8512 - val_loss: 0.1464 - val_accuracy: 0.9822\n",
            "Epoch 143/1000\n",
            "30/40 [=====================>........] - ETA: 0s - loss: 0.4474 - accuracy: 0.8547\n",
            "Epoch 143: saving model to model/keypoint_classifier/keypoint_classifier6.hdf5\n",
            "40/40 [==============================] - 0s 3ms/step - loss: 0.4498 - accuracy: 0.8514 - val_loss: 0.1416 - val_accuracy: 0.9751\n",
            "Epoch 144/1000\n",
            "29/40 [====================>.........] - ETA: 0s - loss: 0.4448 - accuracy: 0.8513\n",
            "Epoch 144: saving model to model/keypoint_classifier/keypoint_classifier6.hdf5\n",
            "40/40 [==============================] - 0s 3ms/step - loss: 0.4435 - accuracy: 0.8516 - val_loss: 0.1467 - val_accuracy: 0.9775\n",
            "Epoch 145/1000\n",
            "36/40 [==========================>...] - ETA: 0s - loss: 0.4527 - accuracy: 0.8446\n",
            "Epoch 145: saving model to model/keypoint_classifier/keypoint_classifier6.hdf5\n",
            "40/40 [==============================] - 0s 3ms/step - loss: 0.4477 - accuracy: 0.8459 - val_loss: 0.1435 - val_accuracy: 0.9840\n",
            "Epoch 146/1000\n",
            "29/40 [====================>.........] - ETA: 0s - loss: 0.4416 - accuracy: 0.8564\n",
            "Epoch 146: saving model to model/keypoint_classifier/keypoint_classifier6.hdf5\n",
            "40/40 [==============================] - 0s 3ms/step - loss: 0.4477 - accuracy: 0.8514 - val_loss: 0.1495 - val_accuracy: 0.9686\n",
            "Epoch 147/1000\n",
            "28/40 [====================>.........] - ETA: 0s - loss: 0.4468 - accuracy: 0.8435\n",
            "Epoch 147: saving model to model/keypoint_classifier/keypoint_classifier6.hdf5\n",
            "40/40 [==============================] - 0s 3ms/step - loss: 0.4561 - accuracy: 0.8441 - val_loss: 0.1446 - val_accuracy: 0.9746\n",
            "Epoch 148/1000\n",
            "27/40 [===================>..........] - ETA: 0s - loss: 0.4596 - accuracy: 0.8406\n",
            "Epoch 148: saving model to model/keypoint_classifier/keypoint_classifier6.hdf5\n",
            "40/40 [==============================] - 0s 3ms/step - loss: 0.4449 - accuracy: 0.8477 - val_loss: 0.1372 - val_accuracy: 0.9817\n",
            "Epoch 149/1000\n",
            "30/40 [=====================>........] - ETA: 0s - loss: 0.4556 - accuracy: 0.8430\n",
            "Epoch 149: saving model to model/keypoint_classifier/keypoint_classifier6.hdf5\n",
            "40/40 [==============================] - 0s 3ms/step - loss: 0.4558 - accuracy: 0.8453 - val_loss: 0.1471 - val_accuracy: 0.9746\n",
            "Epoch 150/1000\n",
            "24/40 [=================>............] - ETA: 0s - loss: 0.4359 - accuracy: 0.8545\n",
            "Epoch 150: saving model to model/keypoint_classifier/keypoint_classifier6.hdf5\n",
            "40/40 [==============================] - 0s 3ms/step - loss: 0.4308 - accuracy: 0.8542 - val_loss: 0.1429 - val_accuracy: 0.9751\n",
            "Epoch 151/1000\n",
            "25/40 [=================>............] - ETA: 0s - loss: 0.4365 - accuracy: 0.8566\n",
            "Epoch 151: saving model to model/keypoint_classifier/keypoint_classifier6.hdf5\n",
            "40/40 [==============================] - 0s 4ms/step - loss: 0.4291 - accuracy: 0.8583 - val_loss: 0.1285 - val_accuracy: 0.9834\n",
            "Epoch 152/1000\n",
            "29/40 [====================>.........] - ETA: 0s - loss: 0.4321 - accuracy: 0.8543\n",
            "Epoch 152: saving model to model/keypoint_classifier/keypoint_classifier6.hdf5\n",
            "40/40 [==============================] - 0s 3ms/step - loss: 0.4321 - accuracy: 0.8564 - val_loss: 0.1433 - val_accuracy: 0.9704\n",
            "Epoch 153/1000\n",
            "35/40 [=========================>....] - ETA: 0s - loss: 0.4544 - accuracy: 0.8493\n",
            "Epoch 153: saving model to model/keypoint_classifier/keypoint_classifier6.hdf5\n",
            "40/40 [==============================] - 0s 3ms/step - loss: 0.4569 - accuracy: 0.8504 - val_loss: 0.1427 - val_accuracy: 0.9740\n",
            "Epoch 154/1000\n",
            "30/40 [=====================>........] - ETA: 0s - loss: 0.4349 - accuracy: 0.8510\n",
            "Epoch 154: saving model to model/keypoint_classifier/keypoint_classifier6.hdf5\n",
            "40/40 [==============================] - 0s 3ms/step - loss: 0.4379 - accuracy: 0.8483 - val_loss: 0.1480 - val_accuracy: 0.9651\n",
            "Epoch 155/1000\n",
            "29/40 [====================>.........] - ETA: 0s - loss: 0.4317 - accuracy: 0.8580\n",
            "Epoch 155: saving model to model/keypoint_classifier/keypoint_classifier6.hdf5\n",
            "40/40 [==============================] - 0s 3ms/step - loss: 0.4301 - accuracy: 0.8579 - val_loss: 0.1374 - val_accuracy: 0.9805\n",
            "Epoch 156/1000\n",
            "29/40 [====================>.........] - ETA: 0s - loss: 0.4655 - accuracy: 0.8429\n",
            "Epoch 156: saving model to model/keypoint_classifier/keypoint_classifier6.hdf5\n",
            "40/40 [==============================] - 0s 3ms/step - loss: 0.4513 - accuracy: 0.8481 - val_loss: 0.1303 - val_accuracy: 0.9834\n",
            "Epoch 157/1000\n",
            "27/40 [===================>..........] - ETA: 0s - loss: 0.4604 - accuracy: 0.8383\n",
            "Epoch 157: saving model to model/keypoint_classifier/keypoint_classifier6.hdf5\n",
            "40/40 [==============================] - 0s 3ms/step - loss: 0.4585 - accuracy: 0.8443 - val_loss: 0.1428 - val_accuracy: 0.9716\n",
            "Epoch 158/1000\n",
            "29/40 [====================>.........] - ETA: 0s - loss: 0.4373 - accuracy: 0.8521\n",
            "Epoch 158: saving model to model/keypoint_classifier/keypoint_classifier6.hdf5\n",
            "40/40 [==============================] - 0s 3ms/step - loss: 0.4384 - accuracy: 0.8514 - val_loss: 0.1336 - val_accuracy: 0.9799\n",
            "Epoch 159/1000\n",
            "28/40 [====================>.........] - ETA: 0s - loss: 0.4401 - accuracy: 0.8513\n",
            "Epoch 159: saving model to model/keypoint_classifier/keypoint_classifier6.hdf5\n",
            "40/40 [==============================] - 0s 3ms/step - loss: 0.4343 - accuracy: 0.8546 - val_loss: 0.1467 - val_accuracy: 0.9639\n",
            "Epoch 160/1000\n",
            "29/40 [====================>.........] - ETA: 0s - loss: 0.4249 - accuracy: 0.8610\n",
            "Epoch 160: saving model to model/keypoint_classifier/keypoint_classifier6.hdf5\n",
            "40/40 [==============================] - 0s 4ms/step - loss: 0.4321 - accuracy: 0.8556 - val_loss: 0.1389 - val_accuracy: 0.9740\n",
            "Epoch 161/1000\n",
            "30/40 [=====================>........] - ETA: 0s - loss: 0.4062 - accuracy: 0.8690\n",
            "Epoch 161: saving model to model/keypoint_classifier/keypoint_classifier6.hdf5\n",
            "40/40 [==============================] - 0s 3ms/step - loss: 0.4109 - accuracy: 0.8684 - val_loss: 0.1425 - val_accuracy: 0.9627\n",
            "Epoch 162/1000\n",
            "30/40 [=====================>........] - ETA: 0s - loss: 0.4467 - accuracy: 0.8505\n",
            "Epoch 162: saving model to model/keypoint_classifier/keypoint_classifier6.hdf5\n",
            "40/40 [==============================] - 0s 3ms/step - loss: 0.4459 - accuracy: 0.8542 - val_loss: 0.1553 - val_accuracy: 0.9562\n",
            "Epoch 163/1000\n",
            "24/40 [=================>............] - ETA: 0s - loss: 0.4437 - accuracy: 0.8561\n",
            "Epoch 163: saving model to model/keypoint_classifier/keypoint_classifier6.hdf5\n",
            "40/40 [==============================] - 0s 3ms/step - loss: 0.4387 - accuracy: 0.8556 - val_loss: 0.1486 - val_accuracy: 0.9698\n",
            "Epoch 164/1000\n",
            "26/40 [==================>...........] - ETA: 0s - loss: 0.4419 - accuracy: 0.8537\n",
            "Epoch 164: saving model to model/keypoint_classifier/keypoint_classifier6.hdf5\n",
            "40/40 [==============================] - 0s 3ms/step - loss: 0.4328 - accuracy: 0.8567 - val_loss: 0.1522 - val_accuracy: 0.9651\n",
            "Epoch 165/1000\n",
            "31/40 [======================>.......] - ETA: 0s - loss: 0.4386 - accuracy: 0.8523\n",
            "Epoch 165: saving model to model/keypoint_classifier/keypoint_classifier6.hdf5\n",
            "40/40 [==============================] - 0s 3ms/step - loss: 0.4404 - accuracy: 0.8520 - val_loss: 0.1387 - val_accuracy: 0.9817\n",
            "Epoch 166/1000\n",
            "29/40 [====================>.........] - ETA: 0s - loss: 0.4270 - accuracy: 0.8580\n",
            "Epoch 166: saving model to model/keypoint_classifier/keypoint_classifier6.hdf5\n",
            "40/40 [==============================] - 0s 3ms/step - loss: 0.4339 - accuracy: 0.8562 - val_loss: 0.1462 - val_accuracy: 0.9604\n",
            "Epoch 167/1000\n",
            "31/40 [======================>.......] - ETA: 0s - loss: 0.4425 - accuracy: 0.8506\n",
            "Epoch 167: saving model to model/keypoint_classifier/keypoint_classifier6.hdf5\n",
            "40/40 [==============================] - 0s 6ms/step - loss: 0.4331 - accuracy: 0.8546 - val_loss: 0.1443 - val_accuracy: 0.9663\n",
            "Epoch 168/1000\n",
            "35/40 [=========================>....] - ETA: 0s - loss: 0.4340 - accuracy: 0.8596\n",
            "Epoch 168: saving model to model/keypoint_classifier/keypoint_classifier6.hdf5\n",
            "40/40 [==============================] - 0s 3ms/step - loss: 0.4351 - accuracy: 0.8562 - val_loss: 0.1452 - val_accuracy: 0.9633\n",
            "Epoch 169/1000\n",
            "29/40 [====================>.........] - ETA: 0s - loss: 0.4337 - accuracy: 0.8529\n",
            "Epoch 169: saving model to model/keypoint_classifier/keypoint_classifier6.hdf5\n",
            "40/40 [==============================] - 0s 3ms/step - loss: 0.4354 - accuracy: 0.8504 - val_loss: 0.1444 - val_accuracy: 0.9686\n",
            "Epoch 170/1000\n",
            "26/40 [==================>...........] - ETA: 0s - loss: 0.4456 - accuracy: 0.8516\n",
            "Epoch 170: saving model to model/keypoint_classifier/keypoint_classifier6.hdf5\n",
            "40/40 [==============================] - 0s 3ms/step - loss: 0.4375 - accuracy: 0.8544 - val_loss: 0.1349 - val_accuracy: 0.9822\n",
            "Epoch 171/1000\n",
            "28/40 [====================>.........] - ETA: 0s - loss: 0.4389 - accuracy: 0.8583\n",
            "Epoch 171: saving model to model/keypoint_classifier/keypoint_classifier6.hdf5\n",
            "40/40 [==============================] - 0s 3ms/step - loss: 0.4352 - accuracy: 0.8585 - val_loss: 0.1535 - val_accuracy: 0.9680\n",
            "Epoch 171: early stopping\n"
          ]
        },
        {
          "data": {
            "text/plain": [
              "<keras.src.callbacks.History at 0x7fb20dc4d210>"
            ]
          },
          "execution_count": 11,
          "metadata": {},
          "output_type": "execute_result"
        }
      ],
      "source": [
        "model.fit(\n",
        "    X_train,\n",
        "    y_train,\n",
        "    epochs=1000,\n",
        "    batch_size=128,\n",
        "    validation_data=(X_test, y_test),\n",
        "    callbacks=[cp_callback, es_callback]\n",
        ")"
      ]
    },
    {
      "cell_type": "code",
      "execution_count": 12,
      "metadata": {
        "colab": {
          "base_uri": "https://localhost:8080/"
        },
        "id": "pxvb2Y299hE3",
        "outputId": "59eb3185-2e37-4b9e-bc9d-ab1b8ac29b7f"
      },
      "outputs": [
        {
          "name": "stdout",
          "output_type": "stream",
          "text": [
            " 1/14 [=>............................] - ETA: 0s - loss: 0.1053 - accuracy: 0.9844"
          ]
        },
        {
          "name": "stdout",
          "output_type": "stream",
          "text": [
            "14/14 [==============================] - 0s 2ms/step - loss: 0.1535 - accuracy: 0.9680\n"
          ]
        }
      ],
      "source": [
        "# Model evaluation\n",
        "val_loss, val_acc = model.evaluate(X_test, y_test, batch_size=128)"
      ]
    },
    {
      "cell_type": "code",
      "execution_count": 13,
      "metadata": {
        "id": "RBkmDeUW9hE4"
      },
      "outputs": [],
      "source": [
        "# Loading the saved model\n",
        "model = tf.keras.models.load_model(model_save_path)"
      ]
    },
    {
      "cell_type": "code",
      "execution_count": 14,
      "metadata": {
        "colab": {
          "base_uri": "https://localhost:8080/"
        },
        "id": "tFz9Tb0I9hE4",
        "outputId": "1c3b3528-54ae-4ee2-ab04-77429211cbef"
      },
      "outputs": [
        {
          "name": "stdout",
          "output_type": "stream",
          "text": [
            "1/1 [==============================] - 0s 60ms/step\n",
            "[5.0943759e-22 3.3293042e-31 1.4936570e-07 8.0584966e-10 1.1179040e-07\n",
            " 7.3344114e-07 9.6987504e-05 1.9939237e-12 5.6529564e-12 4.6500463e-24\n",
            " 1.2043639e-13 9.9990201e-01 7.9528375e-09 6.6440859e-31]\n",
            "11\n"
          ]
        }
      ],
      "source": [
        "# Inference test\n",
        "predict_result = model.predict(np.array([X_test[0]]))\n",
        "print(np.squeeze(predict_result))\n",
        "print(np.argmax(np.squeeze(predict_result)))"
      ]
    },
    {
      "cell_type": "code",
      "execution_count": 15,
      "metadata": {
        "colab": {
          "base_uri": "https://localhost:8080/",
          "height": 582
        },
        "id": "AP1V6SCk9hE5",
        "outputId": "08e41a80-7a4a-4619-8125-ecc371368d19"
      },
      "outputs": [
        {
          "name": "stdout",
          "output_type": "stream",
          "text": [
            "53/53 [==============================] - 0s 1ms/step\n"
          ]
        },
        {
          "data": {
            "image/png": "[encoded data removed]",
            "text/plain": [
              "<Figure size 700x600 with 2 Axes>"
            ]
          },
          "metadata": {},
          "output_type": "display_data"
        },
        {
          "name": "stdout",
          "output_type": "stream",
          "text": [
            "Classification Report\n",
            "              precision    recall  f1-score   support\n",
            "\n",
            "           0       1.00      0.79      0.88       121\n",
            "           1       1.00      1.00      1.00       128\n",
            "           2       1.00      1.00      1.00       145\n",
            "           3       0.90      1.00      0.95       225\n",
            "           4       1.00      1.00      1.00        73\n",
            "           5       1.00      1.00      1.00       131\n",
            "           6       1.00      1.00      1.00       118\n",
            "           7       1.00      0.94      0.97        36\n",
            "           8       1.00      1.00      1.00        36\n",
            "           9       1.00      0.49      0.66        51\n",
            "          10       0.99      1.00      0.99       182\n",
            "          11       1.00      1.00      1.00       110\n",
            "          12       1.00      1.00      1.00       166\n",
            "          13       0.87      1.00      0.93       168\n",
            "\n",
            "    accuracy                           0.97      1690\n",
            "   macro avg       0.98      0.94      0.96      1690\n",
            "weighted avg       0.97      0.97      0.97      1690\n",
            "\n"
          ]
        }
      ],
      "source": [
        "import pandas as pd\n",
        "import seaborn as sns\n",
        "import matplotlib.pyplot as plt\n",
        "from sklearn.metrics import confusion_matrix, classification_report\n",
        "\n",
        "def print_confusion_matrix(y_true, y_pred, report=True):\n",
        "    labels = sorted(list(set(y_true)))\n",
        "    cmx_data = confusion_matrix(y_true, y_pred, labels=labels)\n",
        "    \n",
        "    df_cmx = pd.DataFrame(cmx_data, index=labels, columns=labels)\n",
        " \n",
        "    fig, ax = plt.subplots(figsize=(7, 6))\n",
        "    sns.heatmap(df_cmx, annot=True, fmt='g' ,square=False)\n",
        "    ax.set_ylim(len(set(y_true)), 0)\n",
        "    plt.show()\n",
        "    \n",
        "    if report:\n",
        "        print('Classification Report')\n",
        "        print(classification_report(y_test, y_pred))\n",
        "\n",
        "Y_pred = model.predict(X_test)\n",
        "y_pred = np.argmax(Y_pred, axis=1)\n",
        "\n",
        "print_confusion_matrix(y_test, y_pred)"
      ]
    },
    {
      "cell_type": "code",
      "execution_count": 16,
      "metadata": {
        "id": "ODjnYyld9hE6"
      },
      "outputs": [
        {
          "name": "stderr",
          "output_type": "stream",
          "text": [
            "/home/pavanmanishd/.local/lib/python3.10/site-packages/keras/src/engine/training.py:3000: UserWarning: You are saving your model as an HDF5 file via `model.save()`. This file format is considered legacy. We recommend using instead the native Keras format, e.g. `model.save('my_model.keras')`.\n",
            "  saving_api.save_model(\n"
          ]
        }
      ],
      "source": [
        "# Save as a model dedicated to inference\n",
        "model.save(model_save_path, include_optimizer=False)"
      ]
    },
    {
      "cell_type": "code",
      "execution_count": 17,
      "metadata": {
        "colab": {
          "base_uri": "https://localhost:8080/"
        },
        "id": "zRfuK8Y59hE6",
        "outputId": "a4ca585c-b5d5-4244-8291-8674063209bb"
      },
      "outputs": [
        {
          "name": "stdout",
          "output_type": "stream",
          "text": [
            "INFO:tensorflow:Assets written to: /tmp/tmpb6vz0ktw/assets\n"
          ]
        },
        {
          "name": "stderr",
          "output_type": "stream",
          "text": [
            "INFO:tensorflow:Assets written to: /tmp/tmpb6vz0ktw/assets\n",
            "2023-10-08 18:37:23.939093: W tensorflow/compiler/mlir/lite/python/tf_tfl_flatbuffer_helpers.cc:364] Ignored output_format.\n",
            "2023-10-08 18:37:23.939129: W tensorflow/compiler/mlir/lite/python/tf_tfl_flatbuffer_helpers.cc:367] Ignored drop_control_dependency.\n",
            "2023-10-08 18:37:23.945617: I tensorflow/cc/saved_model/reader.cc:45] Reading SavedModel from: /tmp/tmpb6vz0ktw\n",
            "2023-10-08 18:37:23.946377: I tensorflow/cc/saved_model/reader.cc:91] Reading meta graph with tags { serve }\n",
            "2023-10-08 18:37:23.946391: I tensorflow/cc/saved_model/reader.cc:132] Reading SavedModel debug info (if present) from: /tmp/tmpb6vz0ktw\n",
            "2023-10-08 18:37:23.958667: I tensorflow/compiler/mlir/mlir_graph_optimization_pass.cc:375] MLIR V1 optimization pass is not enabled\n",
            "2023-10-08 18:37:23.959478: I tensorflow/cc/saved_model/loader.cc:231] Restoring SavedModel bundle.\n",
            "2023-10-08 18:37:24.060000: I tensorflow/cc/saved_model/loader.cc:215] Running initialization op on SavedModel bundle at path: /tmp/tmpb6vz0ktw\n",
            "2023-10-08 18:37:24.069670: I tensorflow/cc/saved_model/loader.cc:314] SavedModel load for tags { serve }; Status: success: OK. Took 124061 microseconds.\n",
            "2023-10-08 18:37:25.228387: I tensorflow/compiler/mlir/tensorflow/utils/dump_mlir_util.cc:255] disabling MLIR crash reproducer, set env var `MLIR_CRASH_REPRODUCER_DIRECTORY` to enable.\n"
          ]
        },
        {
          "data": {
            "text/plain": [
              "7544"
            ]
          },
          "execution_count": 17,
          "metadata": {},
          "output_type": "execute_result"
        }
      ],
      "source": [
        "# Transform model (quantization)\n",
        "\n",
        "converter = tf.lite.TFLiteConverter.from_keras_model(model)\n",
        "converter.optimizations = [tf.lite.Optimize.DEFAULT]\n",
        "tflite_quantized_model = converter.convert()\n",
        "\n",
        "open(tflite_save_path, 'wb').write(tflite_quantized_model)"
      ]
    },
    {
      "cell_type": "code",
      "execution_count": 18,
      "metadata": {
        "id": "mGAzLocO9hE7"
      },
      "outputs": [
        {
          "name": "stderr",
          "output_type": "stream",
          "text": [
            "INFO: Created TensorFlow Lite XNNPACK delegate for CPU.\n"
          ]
        }
      ],
      "source": [
        "interpreter = tf.lite.Interpreter(model_path=tflite_save_path)\n",
        "interpreter.allocate_tensors()"
      ]
    },
    {
      "cell_type": "code",
      "execution_count": 19,
      "metadata": {
        "id": "oQuDK8YS9hE7"
      },
      "outputs": [],
      "source": [
        "# Get I / O tensor\n",
        "input_details = interpreter.get_input_details()\n",
        "output_details = interpreter.get_output_details()"
      ]
    },
    {
      "cell_type": "code",
      "execution_count": 20,
      "metadata": {
        "id": "2_ixAf_l9hE7"
      },
      "outputs": [],
      "source": [
        "interpreter.set_tensor(input_details[0]['index'], np.array([X_test[0]]))"
      ]
    },
    {
      "cell_type": "code",
      "execution_count": 21,
      "metadata": {
        "colab": {
          "base_uri": "https://localhost:8080/"
        },
        "id": "s4FoAnuc9hE7",
        "outputId": "91f18257-8d8b-4ef3-c558-e9b5f94fabbf",
        "scrolled": true
      },
      "outputs": [
        {
          "name": "stdout",
          "output_type": "stream",
          "text": [
            "CPU times: user 38 µs, sys: 5 µs, total: 43 µs\n",
            "Wall time: 45.8 µs\n"
          ]
        }
      ],
      "source": [
        "%%time\n",
        "# Inference implementation\n",
        "interpreter.invoke()\n",
        "tflite_results = interpreter.get_tensor(output_details[0]['index'])"
      ]
    },
    {
      "cell_type": "code",
      "execution_count": 22,
      "metadata": {
        "colab": {
          "base_uri": "https://localhost:8080/"
        },
        "id": "vONjp19J9hE8",
        "outputId": "77205e24-fd00-42c4-f7b6-e06e527c2cba"
      },
      "outputs": [
        {
          "name": "stdout",
          "output_type": "stream",
          "text": [
            "[5.0943557e-22 3.3293037e-31 1.4936599e-07 8.0584961e-10 1.1179018e-07\n",
            " 7.3344188e-07 9.6987686e-05 1.9939235e-12 5.6529560e-12 4.6500282e-24\n",
            " 1.2043615e-13 9.9990201e-01 7.9528668e-09 6.6440845e-31]\n",
            "11\n"
          ]
        }
      ],
      "source": [
        "print(np.squeeze(tflite_results))\n",
        "print(np.argmax(np.squeeze(tflite_results)))"
      ]
    }
  ],
  "metadata": {
    "accelerator": "GPU",
    "colab": {
      "collapsed_sections": [],
      "name": "keypoint_classification_EN.ipynb",
      "provenance": [],
      "toc_visible": true
    },
    "kernelspec": {
      "display_name": "Python 3",
      "language": "python",
      "name": "python3"
    },
    "language_info": {
      "codemirror_mode": {
        "name": "ipython",
        "version": 3
      },
      "file_extension": ".py",
      "mimetype": "text/x-python",
      "name": "python",
      "nbconvert_exporter": "python",
      "pygments_lexer": "ipython3",
      "version": "3.10.12"
    }
  },
  "nbformat": 4,
  "nbformat_minor": 0
}
